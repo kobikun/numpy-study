{
 "cells": [
  {
   "cell_type": "code",
   "execution_count": 1,
   "metadata": {
    "collapsed": true
   },
   "outputs": [],
   "source": [
    "# https://deepage.net/features/numpy-sort.html"
   ]
  },
  {
   "cell_type": "markdown",
   "metadata": {},
   "source": [
    "* np.sort, np.argsort \n",
    "\n",
    "### np.sort\n",
    "\n",
    "```\n",
    "numpy.sort(a, axis=-1, kind='quicksort', order=None)\n",
    "params:\n",
    "- a : array_like\n",
    "- axis : int or None\n",
    "- kind : 'quicksort', 'mergesort', 'heapsort'\n",
    "- order : 'string or string list'\n",
    "returns :\n",
    "- array\n",
    "```\n"
   ]
  },
  {
   "cell_type": "code",
   "execution_count": 2,
   "metadata": {},
   "outputs": [
    {
     "data": {
      "text/plain": [
       "array([79, 84,  3, 10, 27, 41, 58, 23, 92, 50, 54, 81, 56, 35, 41, 80, 88,\n",
       "       97, 32, 47])"
      ]
     },
     "execution_count": 2,
     "metadata": {},
     "output_type": "execute_result"
    }
   ],
   "source": [
    "import numpy as np\n",
    "a = np.random.randint(0, 100, size=20)\n",
    "a"
   ]
  },
  {
   "cell_type": "code",
   "execution_count": 3,
   "metadata": {},
   "outputs": [
    {
     "data": {
      "text/plain": [
       "array([ 3, 10, 23, 27, 32, 35, 41, 41, 47, 50, 54, 56, 58, 79, 80, 81, 84,\n",
       "       88, 92, 97])"
      ]
     },
     "execution_count": 3,
     "metadata": {},
     "output_type": "execute_result"
    }
   ],
   "source": [
    "np.sort(a)"
   ]
  },
  {
   "cell_type": "markdown",
   "metadata": {},
   "source": [
    "### np.argsort\n",
    "```\n",
    "numpy.argsort (a, axis = -1, kind = 'quicksort, order = None)\n",
    "returns:\n",
    "index array \n",
    "```\n"
   ]
  },
  {
   "cell_type": "code",
   "execution_count": 4,
   "metadata": {},
   "outputs": [
    {
     "data": {
      "text/plain": [
       "array([1, 3, 2])"
      ]
     },
     "execution_count": 4,
     "metadata": {},
     "output_type": "execute_result"
    }
   ],
   "source": [
    "a = np.array([1, 3, 2])\n",
    "a"
   ]
  },
  {
   "cell_type": "code",
   "execution_count": 6,
   "metadata": {},
   "outputs": [
    {
     "data": {
      "text/plain": [
       "array([0, 2, 1])"
      ]
     },
     "execution_count": 6,
     "metadata": {},
     "output_type": "execute_result"
    }
   ],
   "source": [
    "np.argsort(a) # index"
   ]
  },
  {
   "cell_type": "code",
   "execution_count": 7,
   "metadata": {},
   "outputs": [
    {
     "data": {
      "text/plain": [
       "array([1, 2, 3])"
      ]
     },
     "execution_count": 7,
     "metadata": {},
     "output_type": "execute_result"
    }
   ],
   "source": [
    "a[np.argsort(a)]"
   ]
  },
  {
   "cell_type": "markdown",
   "metadata": {},
   "source": [
    "## sort kind"
   ]
  },
  {
   "cell_type": "code",
   "execution_count": 10,
   "metadata": {
    "collapsed": true
   },
   "outputs": [],
   "source": [
    "import numpy as np\n",
    "import time\n",
    "def sort_comparison(n):\n",
    "     result1 = np.empty(1000)\n",
    "     for i in range(1000):\n",
    "         a = np.random.rand(n)\n",
    "         time1 = time.time()\n",
    "         b = np.sort(a,kind='quicksort')\n",
    "         time1 = time.time()- time1\n",
    "         result1[i] = time1\n",
    "     result2 = np.empty(1000)\n",
    "     for i in range(1000):\n",
    "         a = np.random.rand(n)\n",
    "         time1 = time.time()\n",
    "         b = np.sort(a, kind='mergesort')\n",
    "         time1 = time.time()-time1\n",
    "         result2[i] = time1\n",
    "     result3 = np.empty(1000)\n",
    "     for i in range(1000):\n",
    "         a = np.random.rand(n)\n",
    "         time1 = time.time()\n",
    "         b = np.sort(a,kind='heapsort')\n",
    "         time1 = time.time() - time1\n",
    "         result3[i] = time1\n",
    "     print (\"quicksort average {}, max {}\".format(np.average(result1), np.max(result1)))\n",
    "     print (\"mergesort average {}, max  {}\".format(np.average(result2), np. max(result2)))\n",
    "     print (\"heapsort average {}, max {}\".format(np.average(result3), np.max(result3)))  "
   ]
  },
  {
   "cell_type": "code",
   "execution_count": 11,
   "metadata": {},
   "outputs": [
    {
     "name": "stdout",
     "output_type": "stream",
     "text": [
      "quicksort average 6.981372833251953e-06, max 0.0011882781982421875\n",
      "mergesort average 6.322860717773437e-06, max  0.0002288818359375\n",
      "heapsort average 7.042646408081055e-06, max 3.409385681152344e-05\n"
     ]
    }
   ],
   "source": [
    "sort_comparison(100)"
   ]
  },
  {
   "cell_type": "code",
   "execution_count": 12,
   "metadata": {},
   "outputs": [
    {
     "name": "stdout",
     "output_type": "stream",
     "text": [
      "quicksort average 4.442572593688965e-05, max 0.00029206275939941406\n",
      "mergesort average 4.6743631362915036e-05, max  0.00010704994201660156\n",
      "heapsort average 6.313705444335937e-05, max 0.0001480579376220703\n"
     ]
    }
   ],
   "source": [
    "sort_comparison(1000)"
   ]
  },
  {
   "cell_type": "code",
   "execution_count": 13,
   "metadata": {},
   "outputs": [
    {
     "name": "stdout",
     "output_type": "stream",
     "text": [
      "quicksort average 0.0005404922962188721, max 0.0010631084442138672\n",
      "mergesort average 0.0006154365539550781, max  0.0011851787567138672\n",
      "heapsort average 0.0007944533824920655, max 0.0015289783477783203\n"
     ]
    }
   ],
   "source": [
    "sort_comparison(10000)"
   ]
  },
  {
   "cell_type": "code",
   "execution_count": 14,
   "metadata": {},
   "outputs": [
    {
     "name": "stdout",
     "output_type": "stream",
     "text": [
      "quicksort average 0.006723747014999389, max 0.009920120239257812\n",
      "mergesort average 0.008022084236145019, max  0.011155128479003906\n",
      "heapsort average 0.01073415970802307, max 0.014153003692626953\n"
     ]
    }
   ],
   "source": [
    "sort_comparison(100000)"
   ]
  },
  {
   "cell_type": "markdown",
   "metadata": {},
   "source": [
    "## order"
   ]
  },
  {
   "cell_type": "code",
   "execution_count": 15,
   "metadata": {
    "collapsed": true
   },
   "outputs": [],
   "source": [
    "value = [('Alice', 25, 9.7), ('Bob', 12, 7.6), ('Catherine', 1, 8.6)]\n"
   ]
  },
  {
   "cell_type": "code",
   "execution_count": 16,
   "metadata": {
    "collapsed": true
   },
   "outputs": [],
   "source": [
    "dtype = [('name', 'S10'), ('ID', int), ('score', float)]"
   ]
  },
  {
   "cell_type": "code",
   "execution_count": 18,
   "metadata": {},
   "outputs": [],
   "source": [
    "a = np.array(value, dtype=dtype)"
   ]
  },
  {
   "cell_type": "code",
   "execution_count": 19,
   "metadata": {},
   "outputs": [
    {
     "data": {
      "text/plain": [
       "array([(b'Alice', 25,  9.7), (b'Bob', 12,  7.6), (b'Catherine',  1,  8.6)],\n",
       "      dtype=[('name', 'S10'), ('ID', '<i8'), ('score', '<f8')])"
      ]
     },
     "execution_count": 19,
     "metadata": {},
     "output_type": "execute_result"
    }
   ],
   "source": [
    "a"
   ]
  },
  {
   "cell_type": "code",
   "execution_count": 20,
   "metadata": {},
   "outputs": [
    {
     "data": {
      "text/plain": [
       "array([(b'Bob', 12,  7.6), (b'Catherine',  1,  8.6), (b'Alice', 25,  9.7)],\n",
       "      dtype=[('name', 'S10'), ('ID', '<i8'), ('score', '<f8')])"
      ]
     },
     "execution_count": 20,
     "metadata": {},
     "output_type": "execute_result"
    }
   ],
   "source": [
    "np.sort(a, order='score')"
   ]
  },
  {
   "cell_type": "code",
   "execution_count": 21,
   "metadata": {},
   "outputs": [
    {
     "data": {
      "text/plain": [
       "array([(b'Alice', 25,  9.7), (b'Catherine',  1,  8.6), (b'Bob', 12,  7.6)],\n",
       "      dtype=[('name', 'S10'), ('ID', '<i8'), ('score', '<f8')])"
      ]
     },
     "execution_count": 21,
     "metadata": {},
     "output_type": "execute_result"
    }
   ],
   "source": [
    "np.sort(a, order='score')[::-1]"
   ]
  },
  {
   "cell_type": "code",
   "execution_count": 22,
   "metadata": {},
   "outputs": [
    {
     "data": {
      "text/plain": [
       "array([1, 2, 0])"
      ]
     },
     "execution_count": 22,
     "metadata": {},
     "output_type": "execute_result"
    }
   ],
   "source": [
    "np.argsort(a, order='score')"
   ]
  },
  {
   "cell_type": "code",
   "execution_count": 23,
   "metadata": {
    "collapsed": true
   },
   "outputs": [],
   "source": [
    "# multi order"
   ]
  },
  {
   "cell_type": "code",
   "execution_count": 24,
   "metadata": {},
   "outputs": [
    {
     "data": {
      "text/plain": [
       "array([(b'Bob', 12,  7.6), (b'Catherine',  1,  8.6), (b'Alice', 25,  9.7)],\n",
       "      dtype=[('name', 'S10'), ('ID', '<i8'), ('score', '<f8')])"
      ]
     },
     "execution_count": 24,
     "metadata": {},
     "output_type": "execute_result"
    }
   ],
   "source": [
    "np.sort(a, order=['score', 'ID'])"
   ]
  },
  {
   "cell_type": "code",
   "execution_count": 25,
   "metadata": {},
   "outputs": [
    {
     "data": {
      "text/plain": [
       "array([1, 2, 0])"
      ]
     },
     "execution_count": 25,
     "metadata": {},
     "output_type": "execute_result"
    }
   ],
   "source": [
    "np.argsort(a, order=['score', 'ID'])"
   ]
  },
  {
   "cell_type": "markdown",
   "metadata": {},
   "source": [
    "# more examples"
   ]
  },
  {
   "cell_type": "code",
   "execution_count": 26,
   "metadata": {},
   "outputs": [
    {
     "data": {
      "text/plain": [
       "array([[94,  9, 96,  1, 26],\n",
       "       [13, 58, 75, 27, 61],\n",
       "       [67, 65, 24, 70, 91],\n",
       "       [90, 33, 41,  5, 29]])"
      ]
     },
     "execution_count": 26,
     "metadata": {},
     "output_type": "execute_result"
    }
   ],
   "source": [
    "b = np.random.randint(0, 100, size=20).reshape(4,5)\n",
    "b"
   ]
  },
  {
   "cell_type": "code",
   "execution_count": 27,
   "metadata": {},
   "outputs": [
    {
     "data": {
      "text/plain": [
       "array([[ 1,  9, 26, 94, 96],\n",
       "       [13, 27, 58, 61, 75],\n",
       "       [24, 65, 67, 70, 91],\n",
       "       [ 5, 29, 33, 41, 90]])"
      ]
     },
     "execution_count": 27,
     "metadata": {},
     "output_type": "execute_result"
    }
   ],
   "source": [
    "np.sort(b)"
   ]
  },
  {
   "cell_type": "code",
   "execution_count": 28,
   "metadata": {},
   "outputs": [
    {
     "data": {
      "text/plain": [
       "array([[3, 1, 4, 0, 2],\n",
       "       [0, 3, 1, 4, 2],\n",
       "       [2, 1, 0, 3, 4],\n",
       "       [3, 4, 1, 2, 0]])"
      ]
     },
     "execution_count": 28,
     "metadata": {},
     "output_type": "execute_result"
    }
   ],
   "source": [
    "np.argsort(b)"
   ]
  },
  {
   "cell_type": "code",
   "execution_count": 31,
   "metadata": {},
   "outputs": [
    {
     "data": {
      "text/plain": [
       "array([[13,  9, 24,  1, 26],\n",
       "       [67, 33, 41,  5, 29],\n",
       "       [90, 58, 75, 27, 61],\n",
       "       [94, 65, 96, 70, 91]])"
      ]
     },
     "execution_count": 31,
     "metadata": {},
     "output_type": "execute_result"
    }
   ],
   "source": [
    "np.sort(b, axis=0)  # (95,13,67,90) -> (13,67,90,95)"
   ]
  },
  {
   "cell_type": "code",
   "execution_count": 32,
   "metadata": {},
   "outputs": [
    {
     "data": {
      "text/plain": [
       "array([[1, 0, 2, 0, 0],\n",
       "       [2, 3, 3, 3, 3],\n",
       "       [3, 1, 1, 1, 1],\n",
       "       [0, 2, 0, 2, 2]])"
      ]
     },
     "execution_count": 32,
     "metadata": {},
     "output_type": "execute_result"
    }
   ],
   "source": [
    "np.argsort(b, axis=0)"
   ]
  },
  {
   "cell_type": "code",
   "execution_count": 34,
   "metadata": {},
   "outputs": [
    {
     "data": {
      "text/plain": [
       "array([[ 1,  9, 26, 94, 96],\n",
       "       [13, 27, 58, 61, 75],\n",
       "       [24, 65, 67, 70, 91],\n",
       "       [ 5, 29, 33, 41, 90]])"
      ]
     },
     "execution_count": 34,
     "metadata": {},
     "output_type": "execute_result"
    }
   ],
   "source": [
    "np.sort(b, axis=1) # (94, 9, 96, 1, 26) -> (1, 9, 26, 94, 96)"
   ]
  },
  {
   "cell_type": "code",
   "execution_count": 35,
   "metadata": {},
   "outputs": [
    {
     "data": {
      "text/plain": [
       "array([[3, 1, 4, 0, 2],\n",
       "       [0, 3, 1, 4, 2],\n",
       "       [2, 1, 0, 3, 4],\n",
       "       [3, 4, 1, 2, 0]])"
      ]
     },
     "execution_count": 35,
     "metadata": {},
     "output_type": "execute_result"
    }
   ],
   "source": [
    "np.argsort(b, axis=1)"
   ]
  },
  {
   "cell_type": "code",
   "execution_count": 36,
   "metadata": {},
   "outputs": [
    {
     "data": {
      "text/plain": [
       "array([[[36, 14, 84, 48, 89],\n",
       "        [25, 89, 16, 30, 28],\n",
       "        [87,  8, 62,  2, 74],\n",
       "        [61, 27, 79, 10, 54]],\n",
       "\n",
       "       [[38, 53, 36, 26, 41],\n",
       "        [28, 63, 96, 14, 37],\n",
       "        [78, 21, 40, 56, 18],\n",
       "        [70, 55, 84, 28, 39]]])"
      ]
     },
     "execution_count": 36,
     "metadata": {},
     "output_type": "execute_result"
    }
   ],
   "source": [
    "#\n",
    "c = np.random.randint(0, 100, size=(2,4,5))\n",
    "c"
   ]
  },
  {
   "cell_type": "code",
   "execution_count": 37,
   "metadata": {},
   "outputs": [
    {
     "data": {
      "text/plain": [
       "array([[[14, 36, 48, 84, 89],\n",
       "        [16, 25, 28, 30, 89],\n",
       "        [ 2,  8, 62, 74, 87],\n",
       "        [10, 27, 54, 61, 79]],\n",
       "\n",
       "       [[26, 36, 38, 41, 53],\n",
       "        [14, 28, 37, 63, 96],\n",
       "        [18, 21, 40, 56, 78],\n",
       "        [28, 39, 55, 70, 84]]])"
      ]
     },
     "execution_count": 37,
     "metadata": {},
     "output_type": "execute_result"
    }
   ],
   "source": [
    "np.sort(c)"
   ]
  },
  {
   "cell_type": "code",
   "execution_count": 41,
   "metadata": {},
   "outputs": [
    {
     "data": {
      "text/plain": [
       "array([[[36, 14, 36, 26, 41],\n",
       "        [25, 63, 16, 14, 28],\n",
       "        [78,  8, 40,  2, 18],\n",
       "        [61, 27, 79, 10, 39]],\n",
       "\n",
       "       [[38, 53, 84, 48, 89],\n",
       "        [28, 89, 96, 30, 37],\n",
       "        [87, 21, 62, 56, 74],\n",
       "        [70, 55, 84, 28, 54]]])"
      ]
     },
     "execution_count": 41,
     "metadata": {},
     "output_type": "execute_result"
    }
   ],
   "source": [
    "np.sort(c, axis=0) #(36, 38), (14, 53) , (84, 36), (48, 26), (89, 41) --> "
   ]
  },
  {
   "cell_type": "code",
   "execution_count": 43,
   "metadata": {},
   "outputs": [
    {
     "data": {
      "text/plain": [
       "array([[[25,  8, 16,  2, 28],\n",
       "        [36, 14, 62, 10, 54],\n",
       "        [61, 27, 79, 30, 74],\n",
       "        [87, 89, 84, 48, 89]],\n",
       "\n",
       "       [[28, 21, 36, 14, 18],\n",
       "        [38, 53, 40, 26, 37],\n",
       "        [70, 55, 84, 28, 39],\n",
       "        [78, 63, 96, 56, 41]]])"
      ]
     },
     "execution_count": 43,
     "metadata": {},
     "output_type": "execute_result"
    }
   ],
   "source": [
    "np.sort(c, axis=1) #(36,25, 87, 61) -> (25, 36, 61, 87)"
   ]
  },
  {
   "cell_type": "code",
   "execution_count": 44,
   "metadata": {},
   "outputs": [
    {
     "data": {
      "text/plain": [
       "array([[[14, 36, 48, 84, 89],\n",
       "        [16, 25, 28, 30, 89],\n",
       "        [ 2,  8, 62, 74, 87],\n",
       "        [10, 27, 54, 61, 79]],\n",
       "\n",
       "       [[26, 36, 38, 41, 53],\n",
       "        [14, 28, 37, 63, 96],\n",
       "        [18, 21, 40, 56, 78],\n",
       "        [28, 39, 55, 70, 84]]])"
      ]
     },
     "execution_count": 44,
     "metadata": {},
     "output_type": "execute_result"
    }
   ],
   "source": [
    "np.sort(c, axis=2)"
   ]
  },
  {
   "cell_type": "code",
   "execution_count": null,
   "metadata": {
    "collapsed": true
   },
   "outputs": [],
   "source": []
  }
 ],
 "metadata": {
  "kernelspec": {
   "display_name": "Python 3",
   "language": "python",
   "name": "python3"
  },
  "language_info": {
   "codemirror_mode": {
    "name": "ipython",
    "version": 3
   },
   "file_extension": ".py",
   "mimetype": "text/x-python",
   "name": "python",
   "nbconvert_exporter": "python",
   "pygments_lexer": "ipython3",
   "version": "3.6.1"
  }
 },
 "nbformat": 4,
 "nbformat_minor": 2
}
