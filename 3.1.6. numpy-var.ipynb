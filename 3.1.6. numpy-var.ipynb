{
 "cells": [
  {
   "cell_type": "code",
   "execution_count": 1,
   "metadata": {
    "collapsed": true
   },
   "outputs": [],
   "source": [
    "# https://deepage.net/features/numpy-var.html"
   ]
  },
  {
   "cell_type": "markdown",
   "metadata": {},
   "source": [
    "## 분산\n",
    "* V\n",
    "* $V=\\frac {1}{N} \\sum_{i=0}^{N} {(x-\\overline{x})^2}$\n",
    "* $\\overline{x} = average$\n",
    "```python\n",
    "numpy.var (a, axis = None, dtype = None, out = None, ddof = 0, keepdims = False)\n",
    "```"
   ]
  },
  {
   "cell_type": "code",
   "execution_count": 2,
   "metadata": {},
   "outputs": [
    {
     "data": {
      "text/plain": [
       "array([10, 20, 12,  0,  3,  5])"
      ]
     },
     "execution_count": 2,
     "metadata": {},
     "output_type": "execute_result"
    }
   ],
   "source": [
    "import numpy as np\n",
    "a = np.array([10, 20, 12, 0, 3, 5])\n",
    "a"
   ]
  },
  {
   "cell_type": "code",
   "execution_count": 3,
   "metadata": {},
   "outputs": [
    {
     "data": {
      "text/plain": [
       "43.55555555555555"
      ]
     },
     "execution_count": 3,
     "metadata": {},
     "output_type": "execute_result"
    }
   ],
   "source": [
    "np.var(a)"
   ]
  },
  {
   "cell_type": "code",
   "execution_count": 13,
   "metadata": {},
   "outputs": [
    {
     "data": {
      "text/plain": [
       "8.333333333333334"
      ]
     },
     "execution_count": 13,
     "metadata": {},
     "output_type": "execute_result"
    }
   ],
   "source": [
    "np.mean(a)"
   ]
  },
  {
   "cell_type": "code",
   "execution_count": 20,
   "metadata": {},
   "outputs": [
    {
     "data": {
      "text/plain": [
       "43.55555555555555"
      ]
     },
     "execution_count": 20,
     "metadata": {},
     "output_type": "execute_result"
    }
   ],
   "source": [
    "np.sum(np.power(a-np.mean(a),2))/len(a) "
   ]
  },
  {
   "cell_type": "code",
   "execution_count": 4,
   "metadata": {},
   "outputs": [
    {
     "data": {
      "text/plain": [
       "array([[12,  4,  9, 12],\n",
       "       [18,  7, 10, 12],\n",
       "       [ 8,  0, 18,  3]])"
      ]
     },
     "execution_count": 4,
     "metadata": {},
     "output_type": "execute_result"
    }
   ],
   "source": [
    "b = np.random.randint(20, size=(3,4))\n",
    "b"
   ]
  },
  {
   "cell_type": "code",
   "execution_count": 5,
   "metadata": {},
   "outputs": [
    {
     "data": {
      "text/plain": [
       "27.909722222222218"
      ]
     },
     "execution_count": 5,
     "metadata": {},
     "output_type": "execute_result"
    }
   ],
   "source": [
    "np.var(b)"
   ]
  },
  {
   "cell_type": "code",
   "execution_count": 6,
   "metadata": {},
   "outputs": [
    {
     "data": {
      "text/plain": [
       "array([16.88888889,  8.22222222, 16.22222222, 18.        ])"
      ]
     },
     "execution_count": 6,
     "metadata": {},
     "output_type": "execute_result"
    }
   ],
   "source": [
    "np.var(b, axis=0)"
   ]
  },
  {
   "cell_type": "code",
   "execution_count": 7,
   "metadata": {},
   "outputs": [
    {
     "data": {
      "text/plain": [
       "array([10.6875, 16.1875, 46.6875])"
      ]
     },
     "execution_count": 7,
     "metadata": {},
     "output_type": "execute_result"
    }
   ],
   "source": [
    "np.var(b, axis=1)"
   ]
  },
  {
   "cell_type": "code",
   "execution_count": 8,
   "metadata": {},
   "outputs": [
    {
     "data": {
      "text/plain": [
       "27.909722222222218"
      ]
     },
     "execution_count": 8,
     "metadata": {},
     "output_type": "execute_result"
    }
   ],
   "source": [
    "np.var(b, axis=(0,1))"
   ]
  },
  {
   "cell_type": "code",
   "execution_count": 9,
   "metadata": {
    "collapsed": true
   },
   "outputs": [],
   "source": [
    "# dtype"
   ]
  },
  {
   "cell_type": "code",
   "execution_count": 10,
   "metadata": {},
   "outputs": [
    {
     "data": {
      "text/plain": [
       "array([[-0.62770224, -1.17736156,  0.48876144, -1.11459149,  0.77944579,\n",
       "        -2.27515432,  2.50005569,  0.48912706, -0.41803513, -1.18228615,\n",
       "        -0.64531645,  0.37962318,  0.15523965,  1.16241031, -0.24654083,\n",
       "         0.777638  , -0.68096334, -0.26124993, -0.35383814,  1.22068305],\n",
       "       [-1.64934054,  1.63571331,  0.83148082, -1.46211095, -1.19274215,\n",
       "         0.58480824, -0.60188567, -0.05656122, -0.01071899,  0.93564999,\n",
       "         0.00873814, -1.27834768, -1.64736188, -1.2610256 ,  0.71577048,\n",
       "        -0.77076214, -0.56076312, -1.02909411, -0.66686171, -0.24035598],\n",
       "       [-1.07659264, -0.6628197 ,  0.68275737,  0.31908789, -2.00246969,\n",
       "        -0.10626263, -0.86696783, -0.00504463,  0.23062991,  1.64294751,\n",
       "         0.03972638, -0.87278609,  0.29575756,  0.53412004,  1.09626701,\n",
       "        -0.50222345,  0.6733984 , -0.88926937,  1.46384363,  0.60158203],\n",
       "       [ 0.06106847, -1.48772719, -0.67969472,  1.31588528, -0.88191057,\n",
       "        -1.44335208,  1.79416806,  0.85282867,  0.42439615, -0.51842521,\n",
       "        -1.03079521, -0.00692602,  0.1654893 ,  0.7670014 ,  0.57576916,\n",
       "         0.06415891,  0.01656637, -0.79309121,  0.12769581, -0.24811811],\n",
       "       [-0.11444182, -1.39803951,  0.3223216 , -0.53160301, -1.34396744,\n",
       "         1.26440177, -0.15215905,  0.62735256,  0.29229126, -0.91326266,\n",
       "         1.4558305 , -1.32432179, -2.3610727 , -0.86546146,  0.92007561,\n",
       "         0.33046562,  1.662888  , -1.79701745, -1.60137929, -0.45708479]])"
      ]
     },
     "execution_count": 10,
     "metadata": {},
     "output_type": "execute_result"
    }
   ],
   "source": [
    "c = np.random.randn(100).reshape(5, 20)\n",
    "c"
   ]
  },
  {
   "cell_type": "code",
   "execution_count": 11,
   "metadata": {},
   "outputs": [
    {
     "data": {
      "text/plain": [
       "0.97173804"
      ]
     },
     "execution_count": 11,
     "metadata": {},
     "output_type": "execute_result"
    }
   ],
   "source": [
    "np.var(c, dtype='float32')"
   ]
  },
  {
   "cell_type": "code",
   "execution_count": 12,
   "metadata": {},
   "outputs": [
    {
     "data": {
      "text/plain": [
       "0.9717380592639893"
      ]
     },
     "execution_count": 12,
     "metadata": {},
     "output_type": "execute_result"
    }
   ],
   "source": [
    "np.var(c, dtype='float64')"
   ]
  },
  {
   "cell_type": "code",
   "execution_count": 29,
   "metadata": {
    "collapsed": true
   },
   "outputs": [],
   "source": [
    "## ddof (N-ddof) : 샘플수를 ddof수만큼 줄임"
   ]
  },
  {
   "cell_type": "code",
   "execution_count": 22,
   "metadata": {},
   "outputs": [
    {
     "data": {
      "text/plain": [
       "array([ 1.20819951,  0.1587812 ,  1.1554682 , -1.49492083,  1.77792661,\n",
       "       -0.23743401,  0.49473426,  0.70412413,  0.05952435,  0.63353928])"
      ]
     },
     "execution_count": 22,
     "metadata": {},
     "output_type": "execute_result"
    }
   ],
   "source": [
    "d = np.random.randn(10)\n",
    "d"
   ]
  },
  {
   "cell_type": "code",
   "execution_count": 23,
   "metadata": {},
   "outputs": [
    {
     "data": {
      "text/plain": [
       "0.7428609586233074"
      ]
     },
     "execution_count": 23,
     "metadata": {},
     "output_type": "execute_result"
    }
   ],
   "source": [
    "np.var(d, ddof=0)"
   ]
  },
  {
   "cell_type": "code",
   "execution_count": 24,
   "metadata": {},
   "outputs": [
    {
     "data": {
      "text/plain": [
       "0.8254010651370082"
      ]
     },
     "execution_count": 24,
     "metadata": {},
     "output_type": "execute_result"
    }
   ],
   "source": [
    "np.var(d, ddof=1)"
   ]
  },
  {
   "cell_type": "code",
   "execution_count": 25,
   "metadata": {},
   "outputs": [
    {
     "data": {
      "text/plain": [
       "array([-0.05635354,  1.13570193, -2.32753285,  2.32475427,  0.63352562])"
      ]
     },
     "execution_count": 25,
     "metadata": {},
     "output_type": "execute_result"
    }
   ],
   "source": [
    "e = np.random.randn(5)\n",
    "e"
   ]
  },
  {
   "cell_type": "code",
   "execution_count": 26,
   "metadata": {},
   "outputs": [
    {
     "data": {
      "text/plain": [
       "2.386271119608974"
      ]
     },
     "execution_count": 26,
     "metadata": {},
     "output_type": "execute_result"
    }
   ],
   "source": [
    "np.var(e)"
   ]
  },
  {
   "cell_type": "code",
   "execution_count": 27,
   "metadata": {},
   "outputs": [
    {
     "data": {
      "text/plain": [
       "2.386271119608974"
      ]
     },
     "execution_count": 27,
     "metadata": {},
     "output_type": "execute_result"
    }
   ],
   "source": [
    "np.var(e, ddof=0)"
   ]
  },
  {
   "cell_type": "code",
   "execution_count": 28,
   "metadata": {},
   "outputs": [
    {
     "data": {
      "text/plain": [
       "2.9828388995112176"
      ]
     },
     "execution_count": 28,
     "metadata": {},
     "output_type": "execute_result"
    }
   ],
   "source": [
    "np.var(e, ddof=1)"
   ]
  },
  {
   "cell_type": "code",
   "execution_count": 30,
   "metadata": {
    "collapsed": true
   },
   "outputs": [],
   "source": [
    "## keepdims"
   ]
  },
  {
   "cell_type": "code",
   "execution_count": 31,
   "metadata": {},
   "outputs": [
    {
     "data": {
      "text/plain": [
       "array([[[ 8, 19,  5, 12,  0,  6,  8,  4,  9, 16],\n",
       "        [ 7, 10,  0,  7,  9,  4,  7, 15,  1, 17],\n",
       "        [ 3,  3, 11, 11, 18,  1, 17, 13, 17, 17],\n",
       "        [11, 19, 12,  8,  2, 17,  0, 16,  5,  5],\n",
       "        [ 4,  7,  2,  3, 13,  1, 10,  6, 13, 10]],\n",
       "\n",
       "       [[13, 19, 12, 11, 10,  2, 12, 11,  1, 11],\n",
       "        [ 4, 18, 15, 17, 11, 18,  9, 13,  3, 12],\n",
       "        [15,  6, 18,  2,  1, 17, 18,  9, 10,  1],\n",
       "        [ 3, 12,  9,  3, 15, 16,  1,  6,  5,  8],\n",
       "        [15, 18,  8, 10,  0,  8,  7,  3,  4, 17]]])"
      ]
     },
     "execution_count": 31,
     "metadata": {},
     "output_type": "execute_result"
    }
   ],
   "source": [
    "f = np.random.randint(20, size=(2,5,10))\n",
    "f"
   ]
  },
  {
   "cell_type": "code",
   "execution_count": 32,
   "metadata": {
    "collapsed": true
   },
   "outputs": [],
   "source": [
    "f_var = np.var(f, axis=1)"
   ]
  },
  {
   "cell_type": "code",
   "execution_count": 33,
   "metadata": {},
   "outputs": [
    {
     "ename": "ValueError",
     "evalue": "operands could not be broadcast together with shapes (2,5,10) (2,10) ",
     "output_type": "error",
     "traceback": [
      "\u001b[0;31m---------------------------------------------------------------------------\u001b[0m",
      "\u001b[0;31mValueError\u001b[0m                                Traceback (most recent call last)",
      "\u001b[0;32m<ipython-input-33-d782a6a2e4d4>\u001b[0m in \u001b[0;36m<module>\u001b[0;34m()\u001b[0m\n\u001b[0;32m----> 1\u001b[0;31m \u001b[0mf\u001b[0m\u001b[0;34m/\u001b[0m\u001b[0mf_var\u001b[0m\u001b[0;34m\u001b[0m\u001b[0m\n\u001b[0m",
      "\u001b[0;31mValueError\u001b[0m: operands could not be broadcast together with shapes (2,5,10) (2,10) "
     ]
    }
   ],
   "source": [
    "f/f_var"
   ]
  },
  {
   "cell_type": "code",
   "execution_count": 34,
   "metadata": {},
   "outputs": [
    {
     "data": {
      "text/plain": [
       "((2, 10), (2, 5, 10))"
      ]
     },
     "execution_count": 34,
     "metadata": {},
     "output_type": "execute_result"
    }
   ],
   "source": [
    "f_var.shape, f.shape"
   ]
  },
  {
   "cell_type": "code",
   "execution_count": 35,
   "metadata": {
    "collapsed": true
   },
   "outputs": [],
   "source": [
    "f_var = np.var(f, axis=1, keepdims=True)"
   ]
  },
  {
   "cell_type": "code",
   "execution_count": 36,
   "metadata": {},
   "outputs": [
    {
     "data": {
      "text/plain": [
       "array([[[0.97087379, 0.45849421, 0.21929825, 1.18110236, 0.        ,\n",
       "         0.17162471, 0.26809651, 0.16835017, 0.28125   , 0.70175439],\n",
       "        [0.84951456, 0.24131274, 0.        , 0.68897638, 0.19982238,\n",
       "         0.11441648, 0.23458445, 0.63131313, 0.03125   , 0.74561404],\n",
       "        [0.36407767, 0.07239382, 0.48245614, 1.08267717, 0.39964476,\n",
       "         0.02860412, 0.56970509, 0.54713805, 0.53125   , 0.74561404],\n",
       "        [1.33495146, 0.45849421, 0.52631579, 0.78740157, 0.04440497,\n",
       "         0.48627002, 0.        , 0.67340067, 0.15625   , 0.21929825],\n",
       "        [0.48543689, 0.16891892, 0.0877193 , 0.29527559, 0.28863233,\n",
       "         0.02860412, 0.33512064, 0.25252525, 0.40625   , 0.43859649]],\n",
       "\n",
       "       [[0.45138889, 0.7711039 , 0.86705202, 0.35900783, 0.2886836 ,\n",
       "         0.05186722, 0.38167939, 0.87025316, 0.11061947, 0.3962536 ],\n",
       "        [0.13888889, 0.73051948, 1.08381503, 0.55483029, 0.31755196,\n",
       "         0.46680498, 0.28625954, 1.02848101, 0.33185841, 0.43227666],\n",
       "        [0.52083333, 0.24350649, 1.30057803, 0.06527415, 0.02886836,\n",
       "         0.44087137, 0.57251908, 0.71202532, 1.10619469, 0.03602305],\n",
       "        [0.10416667, 0.48701299, 0.65028902, 0.09791123, 0.4330254 ,\n",
       "         0.41493776, 0.03180662, 0.47468354, 0.55309735, 0.28818444],\n",
       "        [0.52083333, 0.73051948, 0.57803468, 0.32637076, 0.        ,\n",
       "         0.20746888, 0.22264631, 0.23734177, 0.44247788, 0.61239193]]])"
      ]
     },
     "execution_count": 36,
     "metadata": {},
     "output_type": "execute_result"
    }
   ],
   "source": [
    "f/f_var"
   ]
  },
  {
   "cell_type": "markdown",
   "metadata": {},
   "source": [
    "## 평균/편차/분산\n",
    "http://math7.tistory.com/16\n",
    "\n",
    "* 4개의 수 : 50,60,70,80\n",
    "* 평균 : (50+60+70+80)/4 = 65\n",
    "* 편차 : ((50-65)^2+ ... )/4 = 7.5\n",
    "* 분산 : 편차 제곱의 평균"
   ]
  },
  {
   "cell_type": "code",
   "execution_count": null,
   "metadata": {
    "collapsed": true
   },
   "outputs": [],
   "source": []
  }
 ],
 "metadata": {
  "kernelspec": {
   "display_name": "Python 3",
   "language": "python",
   "name": "python3"
  },
  "language_info": {
   "codemirror_mode": {
    "name": "ipython",
    "version": 3
   },
   "file_extension": ".py",
   "mimetype": "text/x-python",
   "name": "python",
   "nbconvert_exporter": "python",
   "pygments_lexer": "ipython3",
   "version": "3.6.1"
  }
 },
 "nbformat": 4,
 "nbformat_minor": 2
}
