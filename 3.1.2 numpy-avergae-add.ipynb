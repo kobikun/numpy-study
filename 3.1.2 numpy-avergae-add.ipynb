{
 "cells": [
  {
   "cell_type": "code",
   "execution_count": 1,
   "metadata": {
    "collapsed": true
   },
   "outputs": [],
   "source": [
    "# http://blog.naver.com/PostView.nhn?blogId=sw4r&logNo=221010499304"
   ]
  },
  {
   "cell_type": "markdown",
   "metadata": {},
   "source": [
    "## average / mean / expectation\n",
    "\n",
    "### Mean / Expectation\n",
    "\n",
    "* 주사위 5번 던저 나온 샘플값 :  1,2,5,2,3\n",
    "\n",
    "* Mean(평균) = (1+2+5+2+3)/5 = 2.6\n",
    "\n",
    "* 기대값(Expectation) : E[X] = 1\\*1/6 + ... 6\\*1/6 = 3.5\n",
    "\n",
    "* Mean은 데이터(샘플)에 의존적임. 샘플에 의해 값이 항상 변함\n",
    "* Expectation은 해당 상화에서 일어 날수 있는 최고로 기대되는 수\n",
    "\n",
    "* if sample data is infinite, Mean = Expectation\n",
    "* https://www.quora.com/What-is-the-difference-between-the-mean-and-the-expected-value\n",
    "\n",
    "### Mean / Average\n",
    "* Mean에는 Arithmetic Mean , Harmonic Mean 다양한 평균값이 존재\n",
    "* Average := Arithmetic Mean"
   ]
  },
  {
   "cell_type": "code",
   "execution_count": null,
   "metadata": {
    "collapsed": true
   },
   "outputs": [],
   "source": []
  }
 ],
 "metadata": {
  "kernelspec": {
   "display_name": "Python 3",
   "language": "python",
   "name": "python3"
  },
  "language_info": {
   "codemirror_mode": {
    "name": "ipython",
    "version": 3
   },
   "file_extension": ".py",
   "mimetype": "text/x-python",
   "name": "python",
   "nbconvert_exporter": "python",
   "pygments_lexer": "ipython3",
   "version": "3.6.1"
  }
 },
 "nbformat": 4,
 "nbformat_minor": 2
}
